{
 "cells": [
  {
   "cell_type": "markdown",
   "metadata": {},
   "source": [
    "CH 4"
   ]
  },
  {
   "cell_type": "code",
   "execution_count": null,
   "metadata": {},
   "outputs": [],
   "source": [
    "def add(number):\n",
    "    \"\"\"Add number\"\"\"\n",
    "\n",
    "    return number *3\n",
    "\n",
    "add(3)"
   ]
  },
  {
   "cell_type": "code",
   "execution_count": null,
   "metadata": {},
   "outputs": [],
   "source": [
    "def square(number):\n",
    "    \"\"\"Calculate the square\"\"\"\n",
    "    return number ** 2\n",
    "\n",
    "square(9)"
   ]
  },
  {
   "cell_type": "code",
   "execution_count": null,
   "metadata": {},
   "outputs": [],
   "source": [
    "def divide(number):\n",
    "    \"\"\"Divided\"\"\"\n",
    "    return number % 2\n",
    "\n",
    "\n",
    "print('The square of 7 is', square(7))"
   ]
  },
  {
   "cell_type": "code",
   "execution_count": null,
   "metadata": {},
   "outputs": [],
   "source": [
    "square?"
   ]
  },
  {
   "cell_type": "code",
   "execution_count": null,
   "metadata": {},
   "outputs": [],
   "source": [
    "type(square)"
   ]
  },
  {
   "cell_type": "code",
   "execution_count": null,
   "metadata": {},
   "outputs": [],
   "source": [
    "square??"
   ]
  },
  {
   "cell_type": "code",
   "execution_count": null,
   "metadata": {},
   "outputs": [],
   "source": [
    "def square_root (num):\n",
    "    return num ** 0.5\n",
    "\n",
    "square_root(9)"
   ]
  },
  {
   "cell_type": "markdown",
   "metadata": {},
   "source": [
    "4.3 Functions with Multiple Parameters"
   ]
  },
  {
   "cell_type": "code",
   "execution_count": null,
   "metadata": {},
   "outputs": [],
   "source": [
    "max([14,27,5,3])\n"
   ]
  },
  {
   "cell_type": "code",
   "execution_count": null,
   "metadata": {},
   "outputs": [],
   "source": [
    "min('orange')"
   ]
  },
  {
   "cell_type": "code",
   "execution_count": null,
   "metadata": {},
   "outputs": [],
   "source": [
    "for n in \"Orange\":\n",
    "    print (n+'\\n',ord(n))\n",
    "print()"
   ]
  },
  {
   "cell_type": "markdown",
   "metadata": {},
   "source": [
    "4.4 Random-Number Generation"
   ]
  },
  {
   "cell_type": "code",
   "execution_count": null,
   "metadata": {},
   "outputs": [],
   "source": [
    "import random\n",
    "\n",
    "for roll in range(10):\n",
    "    print(random.randrange(1,8),end=\" \")"
   ]
  },
  {
   "cell_type": "code",
   "execution_count": null,
   "metadata": {},
   "outputs": [],
   "source": [
    "random.randrange(1,50)"
   ]
  },
  {
   "cell_type": "code",
   "execution_count": null,
   "metadata": {},
   "outputs": [],
   "source": [
    "random.seed(42)\n",
    "\n",
    "for roll in range(10):\n",
    "    print(random.randrange(1,7),end=\" \")"
   ]
  },
  {
   "cell_type": "code",
   "execution_count": null,
   "metadata": {},
   "outputs": [],
   "source": [
    "for roll in range(10):\n",
    "    print(random.randrange(1,7),end=\" \")"
   ]
  },
  {
   "cell_type": "code",
   "execution_count": null,
   "metadata": {},
   "outputs": [],
   "source": [
    "random.seed(42)\n",
    "\n",
    "for roll in range(10):\n",
    "    print(random.randrange(1,7),end=\" \")"
   ]
  },
  {
   "cell_type": "code",
   "execution_count": null,
   "metadata": {},
   "outputs": [],
   "source": [
    "import random\n",
    "\n",
    "for i in range(20):\n",
    "    print('H' if random.randrange(2) == 0 else 'T',end=\" \")"
   ]
  },
  {
   "cell_type": "code",
   "execution_count": null,
   "metadata": {},
   "outputs": [],
   "source": [
    "import random\n",
    "\n",
    "for i in range(20):\n",
    "    if random.randrange(2) == 0:\n",
    "        print('H',end=' ')\n",
    "    else:\n",
    "        print('T',end=\" \")"
   ]
  },
  {
   "cell_type": "markdown",
   "metadata": {},
   "source": [
    "4.5 Case Study: A Game of Chance"
   ]
  },
  {
   "cell_type": "code",
   "execution_count": null,
   "metadata": {},
   "outputs": [],
   "source": [
    "import random\n",
    "\n",
    "def roll_dice():\n",
    "    \"\"\"Roll two dice and return their face\"\"\"\n",
    "    die1 = random.randrange(1,7)\n",
    "    die2 = random.randrange(1,7)\n",
    "    return(die1,die2)\n",
    "\n",
    "def display_dice(dice):\n",
    "    \"\"\"Display one roll of the two dice\"\"\"\n",
    "    die1,die2 = dice\n",
    "    print(f'Player rolled {die1} + {die2} = {sum(dice)}')\n",
    "\n",
    "div_values = roll_dice()\n",
    "display_dice(div_values)\n",
    "sum_of_dice = sum(div_values)\n",
    "\n",
    "if sum_of_dice in (7,11):\n",
    "    game_status = 'WON'\n",
    "elif sum_of_dice in (2,3,12):\n",
    "    game_status = 'LOST'\n",
    "else:\n",
    "    game_status = 'CONTINUE'\n",
    "    my_point = sum_of_dice\n",
    "    print('Point is',my_point)\n",
    "\n",
    "while game_status == 'CONTINUE':\n",
    "    div_values = roll_dice()\n",
    "    display_dice(div_values)\n",
    "    sum_of_dice = sum(div_values)\n",
    "\n",
    "    if sum_of_dice == my_point:\n",
    "        game_status = 'WON'\n",
    "    elif sum_of_dice ==7:\n",
    "        game_status = 'LOST'\n",
    "\n",
    "\n",
    "if game_status == 'WON':\n",
    "    print('Player wins')\n",
    "\n",
    "else:\n",
    "    print('Player losses')\n",
    "\n",
    "\n"
   ]
  },
  {
   "cell_type": "code",
   "execution_count": null,
   "metadata": {},
   "outputs": [],
   "source": [
    "student = ('sue',[89,94,85],)\n",
    "student = ('Mohamed',[1,2,3])\n",
    "student"
   ]
  },
  {
   "cell_type": "code",
   "execution_count": null,
   "metadata": {},
   "outputs": [],
   "source": [
    "name,grades = student"
   ]
  },
  {
   "cell_type": "code",
   "execution_count": null,
   "metadata": {},
   "outputs": [],
   "source": [
    "student"
   ]
  },
  {
   "cell_type": "code",
   "execution_count": null,
   "metadata": {},
   "outputs": [],
   "source": [
    "print(f'{name}: {grades}')"
   ]
  },
  {
   "cell_type": "code",
   "execution_count": null,
   "metadata": {},
   "outputs": [],
   "source": [
    "student = ('Younis',[20,30,40])\n",
    "student"
   ]
  },
  {
   "cell_type": "code",
   "execution_count": null,
   "metadata": {},
   "outputs": [],
   "source": [
    "name,grades = student"
   ]
  },
  {
   "cell_type": "code",
   "execution_count": null,
   "metadata": {},
   "outputs": [],
   "source": [
    "print(f'{name}: {grades}')"
   ]
  },
  {
   "cell_type": "code",
   "execution_count": null,
   "metadata": {},
   "outputs": [],
   "source": [
    "import math\n",
    "\n",
    "math.sqrt(9)"
   ]
  },
  {
   "cell_type": "code",
   "execution_count": null,
   "metadata": {},
   "outputs": [],
   "source": [
    "math.sqrt(900)"
   ]
  },
  {
   "cell_type": "code",
   "execution_count": null,
   "metadata": {},
   "outputs": [],
   "source": [
    "math.fabs(-10)"
   ]
  },
  {
   "cell_type": "code",
   "execution_count": null,
   "metadata": {},
   "outputs": [],
   "source": [
    "math.fabs(-10)"
   ]
  },
  {
   "cell_type": "code",
   "execution_count": null,
   "metadata": {},
   "outputs": [],
   "source": [
    "dir(math)"
   ]
  },
  {
   "cell_type": "code",
   "execution_count": null,
   "metadata": {},
   "outputs": [],
   "source": [
    "math.faps?"
   ]
  },
  {
   "cell_type": "code",
   "execution_count": null,
   "metadata": {},
   "outputs": [],
   "source": [
    "math.fabs"
   ]
  },
  {
   "cell_type": "markdown",
   "metadata": {},
   "source": [
    "4.9 Default Parameter Values"
   ]
  },
  {
   "cell_type": "code",
   "execution_count": null,
   "metadata": {},
   "outputs": [],
   "source": [
    "def rectangl_area(length = 2,width = 3):\n",
    "    return length * width\n",
    "\n",
    "rectangl_area()\n",
    "rectangl_area(10)\n"
   ]
  },
  {
   "cell_type": "markdown",
   "metadata": {},
   "source": [
    "4.10 Keyword Arguments"
   ]
  },
  {
   "cell_type": "code",
   "execution_count": null,
   "metadata": {},
   "outputs": [],
   "source": [
    "def rectangl_area(length , width):\n",
    "    \"\"\"Return a rectangle's area.\"\"\"\n",
    "    return length  *  width\n",
    "\n",
    "rectangl_area(width=20,length=4)"
   ]
  },
  {
   "cell_type": "markdown",
   "metadata": {},
   "source": [
    "4.11 Arbitrary Argument Lists"
   ]
  },
  {
   "cell_type": "code",
   "execution_count": null,
   "metadata": {},
   "outputs": [],
   "source": [
    "def average (*args):\n",
    "    return sum(args) / len(args)\n",
    "\n",
    "average(5,10)"
   ]
  },
  {
   "cell_type": "code",
   "execution_count": null,
   "metadata": {},
   "outputs": [],
   "source": [
    "def menu(*food):\n",
    "    for foods in food:\n",
    "        print(foods)\n",
    "\n",
    "menu('food 1','food 2','food 3')"
   ]
  },
  {
   "cell_type": "code",
   "execution_count": null,
   "metadata": {},
   "outputs": [],
   "source": [
    "def average(*args):\n",
    "    return sum(args) / len(args)\n",
    "\n",
    "average(5,2,5,3)"
   ]
  },
  {
   "cell_type": "code",
   "execution_count": null,
   "metadata": {},
   "outputs": [],
   "source": [
    "grades = [88, 75, 96, 55, 83]\n",
    "\n",
    "average(*grades)"
   ]
  },
  {
   "cell_type": "code",
   "execution_count": null,
   "metadata": {},
   "outputs": [],
   "source": [
    "def calculate_product(*args):\n",
    "    product = 1\n",
    "    for value in args:\n",
    "        product *= value\n",
    "    return product\n",
    "\n",
    "\n",
    "calculate_product(10,20,30)\n",
    "\n",
    "calculate_product(*range(1,6,2))"
   ]
  },
  {
   "cell_type": "code",
   "execution_count": null,
   "metadata": {},
   "outputs": [],
   "source": [
    "for item in range(1,6,2):\n",
    "    print(item)"
   ]
  },
  {
   "cell_type": "code",
   "execution_count": null,
   "metadata": {},
   "outputs": [],
   "source": [
    "def menu(*foods):\n",
    "    for food in foods:\n",
    "        print(food)\n",
    "\n",
    "menu('Koshary','Tagen')"
   ]
  },
  {
   "cell_type": "markdown",
   "metadata": {},
   "source": [
    "4.12 Methods: Functions That Belong to Objects"
   ]
  },
  {
   "cell_type": "code",
   "execution_count": null,
   "metadata": {},
   "outputs": [],
   "source": [
    "s = 'Hello'\n",
    "\n",
    "s.lower()"
   ]
  },
  {
   "cell_type": "code",
   "execution_count": null,
   "metadata": {},
   "outputs": [],
   "source": [
    "s.upper()"
   ]
  },
  {
   "cell_type": "code",
   "execution_count": null,
   "metadata": {},
   "outputs": [],
   "source": [
    "s"
   ]
  },
  {
   "cell_type": "markdown",
   "metadata": {},
   "source": [
    "4.13 Scope Rules"
   ]
  },
  {
   "cell_type": "code",
   "execution_count": null,
   "metadata": {},
   "outputs": [],
   "source": [
    "\"\"\"Accessing Global variable value inside function\"\"\"\n",
    "\n",
    "x = 7\n",
    "\n",
    "def access_global():\n",
    "    print('x printed from access_global:',x)\n",
    "\n",
    "access_global()\n",
    "\n",
    "def try_to_modify_global():\n",
    "    x = 3.5\n",
    "    print('x printed form try to modify:',x)\n",
    "\n",
    "try_to_modify_global()\n",
    "\n",
    "def modify_global():\n",
    "    global x\n",
    "    x = 'hello'\n",
    "    print('x printed from modify_global:',x)\n",
    "\n",
    "\n",
    "modify_global()\n",
    "x"
   ]
  },
  {
   "cell_type": "code",
   "execution_count": null,
   "metadata": {},
   "outputs": [],
   "source": [
    "x= 9\n",
    "\n",
    "def number():\n",
    "    global x\n",
    "    x = 'Younis'\n",
    "    print(x)\n",
    "\n",
    "number()\n",
    "x"
   ]
  },
  {
   "cell_type": "code",
   "execution_count": null,
   "metadata": {},
   "outputs": [],
   "source": [
    "abs(-1)"
   ]
  },
  {
   "cell_type": "code",
   "execution_count": 3,
   "metadata": {},
   "outputs": [
    {
     "ename": "TypeError",
     "evalue": "'int' object is not callable",
     "output_type": "error",
     "traceback": [
      "\u001b[1;31m---------------------------------------------------------------------------\u001b[0m",
      "\u001b[1;31mTypeError\u001b[0m                                 Traceback (most recent call last)",
      "\u001b[1;32mmohamedyounis94\\IntroToPython\\examples\\ch04\\EX.ipynb Cell 57\u001b[0m line \u001b[0;36m4\n\u001b[0;32m      <a href='vscode-notebook-cell://github/mohamedyounis94/IntroToPython/examples/ch04/EX.ipynb#Y110sdnNjb2RlLXZmcw%3D%3D?line=0'>1</a>\u001b[0m \u001b[39msum\u001b[39m \u001b[39m=\u001b[39m \u001b[39m10\u001b[39m \u001b[39m+\u001b[39m \u001b[39m4\u001b[39m\n\u001b[0;32m      <a href='vscode-notebook-cell://github/mohamedyounis94/IntroToPython/examples/ch04/EX.ipynb#Y110sdnNjb2RlLXZmcw%3D%3D?line=1'>2</a>\u001b[0m \u001b[39msum\u001b[39m\n\u001b[1;32m----> <a href='vscode-notebook-cell://github/mohamedyounis94/IntroToPython/examples/ch04/EX.ipynb#Y110sdnNjb2RlLXZmcw%3D%3D?line=3'>4</a>\u001b[0m \u001b[39msum\u001b[39;49m([\u001b[39m5\u001b[39;49m,\u001b[39m2\u001b[39;49m])\n",
      "\u001b[1;31mTypeError\u001b[0m: 'int' object is not callable"
     ]
    }
   ],
   "source": [
    "sum = 10 + 4\n",
    "sum\n",
    "\n",
    "sum([5,2])"
   ]
  },
  {
   "cell_type": "markdown",
   "metadata": {},
   "source": [
    "4.14 import: A Deeper Look"
   ]
  },
  {
   "cell_type": "code",
   "execution_count": 6,
   "metadata": {},
   "outputs": [
    {
     "name": "stdout",
     "output_type": "stream",
     "text": [
      "2\n",
      "5\n",
      "5\n",
      "4\n"
     ]
    }
   ],
   "source": [
    "import random\n",
    "\n",
    "for i in range(4):\n",
    "    print (random.randint(1,5))"
   ]
  },
  {
   "cell_type": "code",
   "execution_count": 10,
   "metadata": {},
   "outputs": [
    {
     "data": {
      "text/plain": [
       "3.0"
      ]
     },
     "execution_count": 10,
     "metadata": {},
     "output_type": "execute_result"
    }
   ],
   "source": [
    "from math import *\n",
    "\n",
    "ceil(10.3)\n",
    "\n",
    "floor(10.7)\n",
    "\n",
    "sqrt(9)\n"
   ]
  },
  {
   "cell_type": "code",
   "execution_count": 14,
   "metadata": {},
   "outputs": [
    {
     "data": {
      "text/plain": [
       "2.718281828459045"
      ]
     },
     "execution_count": 14,
     "metadata": {},
     "output_type": "execute_result"
    }
   ],
   "source": [
    "e = 'Hello'\n",
    "\n",
    "from math import *\n",
    "\n",
    "e"
   ]
  },
  {
   "cell_type": "markdown",
   "metadata": {},
   "source": [
    "Binding Names for Modules and Module Identifiers"
   ]
  },
  {
   "cell_type": "code",
   "execution_count": 20,
   "metadata": {},
   "outputs": [
    {
     "data": {
      "text/plain": [
       "43.75"
      ]
     },
     "execution_count": 20,
     "metadata": {},
     "output_type": "execute_result"
    }
   ],
   "source": [
    "import statistics as stats\n",
    "\n",
    "grades = [85,20,30,40]\n",
    "\n",
    "stats.mean(grades)\n"
   ]
  },
  {
   "cell_type": "code",
   "execution_count": 21,
   "metadata": {},
   "outputs": [
    {
     "data": {
      "text/plain": [
       "Decimal('6.25')"
      ]
     },
     "execution_count": 21,
     "metadata": {},
     "output_type": "execute_result"
    }
   ],
   "source": [
    "import decimal as dec\n",
    "\n",
    "dec.Decimal('2.5') ** 2"
   ]
  },
  {
   "cell_type": "markdown",
   "metadata": {},
   "source": [
    "4.15 Passing Arguments to Functions: A Deeper Look"
   ]
  },
  {
   "cell_type": "code",
   "execution_count": 22,
   "metadata": {},
   "outputs": [
    {
     "data": {
      "text/plain": [
       "140733667533800"
      ]
     },
     "execution_count": 22,
     "metadata": {},
     "output_type": "execute_result"
    }
   ],
   "source": [
    "x = 7\n",
    "id(x)"
   ]
  },
  {
   "cell_type": "code",
   "execution_count": 27,
   "metadata": {},
   "outputs": [
    {
     "name": "stdout",
     "output_type": "stream",
     "text": [
      "id(number) 140733667533640\n"
     ]
    },
    {
     "data": {
      "text/plain": [
       "8"
      ]
     },
     "execution_count": 27,
     "metadata": {},
     "output_type": "execute_result"
    }
   ],
   "source": [
    "def cube(number):\n",
    "    print('id(number)',id(number))\n",
    "    return number ** 3\n",
    "\n",
    "cube(2)"
   ]
  },
  {
   "cell_type": "code",
   "execution_count": 30,
   "metadata": {},
   "outputs": [
    {
     "name": "stdout",
     "output_type": "stream",
     "text": [
      "number is x: True\n"
     ]
    },
    {
     "data": {
      "text/plain": [
       "343"
      ]
     },
     "execution_count": 30,
     "metadata": {},
     "output_type": "execute_result"
    }
   ],
   "source": [
    "def cube(number):\n",
    "    print('number is x:',number is x)\n",
    "    return number ** 3\n",
    "\n",
    "cube(x)\n"
   ]
  },
  {
   "cell_type": "code",
   "execution_count": 32,
   "metadata": {},
   "outputs": [
    {
     "name": "stdout",
     "output_type": "stream",
     "text": [
      "before modifing: 140733667533672\n",
      "after modifying:  140733667534440\n"
     ]
    }
   ],
   "source": [
    "def cube(number):\n",
    "    print('before modifing:', id(number))\n",
    "    number **= 3\n",
    "    print('after modifying: ',id(number))\n",
    "\n",
    "cube(3)"
   ]
  },
  {
   "cell_type": "code",
   "execution_count": 34,
   "metadata": {},
   "outputs": [
    {
     "name": "stdout",
     "output_type": "stream",
     "text": [
      "id 2425987820272 Value 15.5\n",
      "id  2425987821232 Value 46.5\n"
     ]
    }
   ],
   "source": [
    "width = 15.5\n",
    "\n",
    "print('id',id(width), 'Value',width)\n",
    "\n",
    "width = width * 3\n",
    "\n",
    "print('id ',id(width) , 'Value',width)"
   ]
  },
  {
   "cell_type": "markdown",
   "metadata": {},
   "source": [
    "![Alt text](image.png)"
   ]
  },
  {
   "cell_type": "markdown",
   "metadata": {},
   "source": [
    "Variance"
   ]
  },
  {
   "cell_type": "code",
   "execution_count": 1,
   "metadata": {},
   "outputs": [
    {
     "data": {
      "text/plain": [
       "2.25"
      ]
     },
     "execution_count": 1,
     "metadata": {},
     "output_type": "execute_result"
    }
   ],
   "source": [
    "import statistics\n",
    "\n",
    "statistics.pvariance([1,3,4,2,6,5,3,4,5,2])"
   ]
  },
  {
   "cell_type": "markdown",
   "metadata": {},
   "source": [
    "![Alt text](image-1.png)"
   ]
  },
  {
   "cell_type": "code",
   "execution_count": 2,
   "metadata": {},
   "outputs": [
    {
     "data": {
      "text/plain": [
       "1.5"
      ]
     },
     "execution_count": 2,
     "metadata": {},
     "output_type": "execute_result"
    }
   ],
   "source": [
    "statistics.pstdev([1,3,4,2,6,5,3,4,5,2])"
   ]
  },
  {
   "cell_type": "code",
   "execution_count": 3,
   "metadata": {},
   "outputs": [
    {
     "data": {
      "text/plain": [
       "1.5"
      ]
     },
     "execution_count": 3,
     "metadata": {},
     "output_type": "execute_result"
    }
   ],
   "source": [
    "import math\n",
    "\n",
    "math.sqrt(statistics.pvariance([1,3,4,2,6,5,3,4,5,2]))"
   ]
  },
  {
   "cell_type": "code",
   "execution_count": 4,
   "metadata": {},
   "outputs": [
    {
     "data": {
      "text/plain": [
       "2.5"
      ]
     },
     "execution_count": 4,
     "metadata": {},
     "output_type": "execute_result"
    }
   ],
   "source": [
    "import statistics\n",
    "\n",
    "statistics.variance([1, 3, 4, 2, 6, 5, 3, 4, 5, 2])\n",
    "\n"
   ]
  },
  {
   "cell_type": "code",
   "execution_count": 5,
   "metadata": {},
   "outputs": [
    {
     "data": {
      "text/plain": [
       "1.5811388300841898"
      ]
     },
     "execution_count": 5,
     "metadata": {},
     "output_type": "execute_result"
    }
   ],
   "source": [
    "statistics.stdev([1, 3, 4, 2, 6, 5, 3, 4, 5, 2])"
   ]
  },
  {
   "cell_type": "markdown",
   "metadata": {},
   "source": [
    "Exercises"
   ]
  },
  {
   "cell_type": "code",
   "execution_count": 7,
   "metadata": {},
   "outputs": [
    {
     "name": "stdout",
     "output_type": "stream",
     "text": [
      "The cube of 2 is 8\n"
     ]
    }
   ],
   "source": [
    "def cube(x):\n",
    "    \"\"\"Calculate the cube of x\"\"\"\n",
    "    return x**3\n",
    "    \n",
    "print('The cube of 2 is',cube(2))"
   ]
  },
  {
   "cell_type": "code",
   "execution_count": 18,
   "metadata": {},
   "outputs": [
    {
     "data": {
      "text/plain": [
       "12"
      ]
     },
     "execution_count": 18,
     "metadata": {},
     "output_type": "execute_result"
    }
   ],
   "source": [
    "def mystery(x):\n",
    "    \"\"\"Sum even numbers\"\"\"\n",
    "    y = 0\n",
    "    for i in x:\n",
    "        if i % 2 == 0:\n",
    "            y += i\n",
    "    \n",
    "    return y\n",
    "\n",
    "mystery([1,2,3,4,5,6])"
   ]
  },
  {
   "cell_type": "code",
   "execution_count": 19,
   "metadata": {},
   "outputs": [
    {
     "data": {
      "text/plain": [
       "1.3333333333333333"
      ]
     },
     "execution_count": 19,
     "metadata": {},
     "output_type": "execute_result"
    }
   ],
   "source": [
    "def calc_slope(x1, y1, x2, y2):\n",
    "    delta_x = x2 - x1\n",
    "    delta_y = y2 - y1\n",
    "    slope = delta_y / delta_x\n",
    "    return slope\n",
    "\n",
    "calc_slope(1,1,4,5)"
   ]
  },
  {
   "cell_type": "markdown",
   "metadata": {},
   "source": [
    "![Alt text](image-2.png)"
   ]
  },
  {
   "cell_type": "code",
   "execution_count": 27,
   "metadata": {},
   "outputs": [
    {
     "data": {
      "text/plain": [
       "2"
      ]
     },
     "execution_count": 27,
     "metadata": {},
     "output_type": "execute_result"
    }
   ],
   "source": [
    "import statistics\n",
    "def average_grade2(*args):\n",
    "    return statistics.mean(args)\n",
    "\n",
    "\n",
    "grade1 = int(input('Enter the first grade:'))\n",
    "grade2 = int(input('Enter the second grade:'))\n",
    "grade3 = int(input('Enter the third grade:'))\n",
    "\n",
    "grades = (grade1,grade2,grade3)\n",
    "\n",
    "average_grade2(*grades)"
   ]
  },
  {
   "cell_type": "code",
   "execution_count": 2,
   "metadata": {},
   "outputs": [
    {
     "name": "stdout",
     "output_type": "stream",
     "text": [
      "2023-09-23 14:38:45.955110\n"
     ]
    }
   ],
   "source": [
    "import datetime\n",
    "\n",
    "def date_and_time():\n",
    "    return print(datetime.datetime.today())\n",
    "\n",
    "date_and_time()"
   ]
  },
  {
   "cell_type": "markdown",
   "metadata": {},
   "source": [
    "![Alt text](image-3.png)"
   ]
  },
  {
   "cell_type": "code",
   "execution_count": 17,
   "metadata": {},
   "outputs": [
    {
     "data": {
      "text/plain": [
       "2.55"
      ]
     },
     "execution_count": 17,
     "metadata": {},
     "output_type": "execute_result"
    }
   ],
   "source": [
    "def round_value(x,y):\n",
    "    \"\"\"Round the numbers\"\"\"\n",
    "    return round(x,y)\n",
    "    print(\"Rounded floating point number to the asked position is: \", round(x,y))\n",
    "\n",
    "user_value_f =float(input('Please Enter float number: '))\n",
    "user_value_i =int(input('Please Enter float number: '))\n",
    "round_value(user_value_f,user_value_i)"
   ]
  },
  {
   "cell_type": "code",
   "execution_count": 10,
   "metadata": {},
   "outputs": [
    {
     "name": "stdout",
     "output_type": "stream",
     "text": [
      "Rounded floating point number to the asked position is:  2.55\n"
     ]
    }
   ],
   "source": [
    "# User input for the float number\n",
    "float_number = float(input(\"Enter a floating point number: \"))\n",
    "\n",
    "# User input for the number of digits after the decimal\n",
    "decimal_digits = int(input(\"Enter the number of digits after the decimal sign: \"))\n",
    "\n",
    "# Rounding off the float number\n",
    "rounded_number = round(float_number, decimal_digits)\n",
    "\n",
    "# Printing the rounded number\n",
    "print(\"Rounded floating point number to the asked position is: \", rounded_number)"
   ]
  },
  {
   "cell_type": "markdown",
   "metadata": {},
   "source": [
    "![Alt text](image-4.png)"
   ]
  },
  {
   "cell_type": "code",
   "execution_count": 22,
   "metadata": {},
   "outputs": [
    {
     "name": "stdout",
     "output_type": "stream",
     "text": [
      "Degrees\tRadians\n",
      "1\t0\n",
      "2\t0\n",
      "3\t0\n",
      "4\t0\n",
      "5\t0\n",
      "6\t0\n",
      "7\t0\n",
      "8\t0\n",
      "9\t0\n",
      "10\t0\n",
      "11\t0\n",
      "12\t0\n",
      "13\t0\n",
      "14\t0\n",
      "15\t0\n",
      "16\t0\n",
      "17\t0\n",
      "18\t0\n",
      "19\t0\n",
      "20\t0\n",
      "21\t0\n",
      "22\t0\n",
      "23\t0\n",
      "24\t0\n",
      "25\t0\n",
      "26\t0\n",
      "27\t0\n",
      "28\t0\n",
      "29\t1\n",
      "30\t1\n",
      "31\t1\n",
      "32\t1\n",
      "33\t1\n",
      "34\t1\n",
      "35\t1\n",
      "36\t1\n",
      "37\t1\n",
      "38\t1\n",
      "39\t1\n",
      "40\t1\n",
      "41\t1\n",
      "42\t1\n",
      "43\t1\n",
      "44\t1\n",
      "45\t1\n",
      "46\t1\n",
      "47\t1\n",
      "48\t1\n",
      "49\t1\n",
      "50\t1\n",
      "51\t1\n",
      "52\t1\n",
      "53\t1\n",
      "54\t1\n",
      "55\t1\n",
      "56\t1\n",
      "57\t1\n",
      "58\t1\n",
      "59\t1\n",
      "60\t1\n",
      "61\t1\n",
      "62\t1\n",
      "63\t1\n",
      "64\t1\n",
      "65\t1\n",
      "66\t1\n",
      "67\t1\n",
      "68\t1\n",
      "69\t1\n",
      "70\t1\n",
      "71\t1\n",
      "72\t1\n",
      "73\t1\n",
      "74\t1\n",
      "75\t1\n",
      "76\t1\n",
      "77\t1\n",
      "78\t1\n",
      "79\t1\n",
      "80\t1\n",
      "81\t1\n",
      "82\t1\n",
      "83\t1\n",
      "84\t1\n",
      "85\t1\n",
      "86\t2\n",
      "87\t2\n",
      "88\t2\n",
      "89\t2\n",
      "90\t2\n",
      "91\t2\n",
      "92\t2\n",
      "93\t2\n",
      "94\t2\n",
      "95\t2\n",
      "96\t2\n",
      "97\t2\n",
      "98\t2\n",
      "99\t2\n",
      "100\t2\n",
      "101\t2\n",
      "102\t2\n",
      "103\t2\n",
      "104\t2\n",
      "105\t2\n",
      "106\t2\n",
      "107\t2\n",
      "108\t2\n",
      "109\t2\n",
      "110\t2\n",
      "111\t2\n",
      "112\t2\n",
      "113\t2\n",
      "114\t2\n",
      "115\t2\n",
      "116\t2\n",
      "117\t2\n",
      "118\t2\n",
      "119\t2\n",
      "120\t2\n",
      "121\t2\n",
      "122\t2\n",
      "123\t2\n",
      "124\t2\n",
      "125\t2\n",
      "126\t2\n",
      "127\t2\n",
      "128\t2\n",
      "129\t2\n",
      "130\t2\n",
      "131\t2\n",
      "132\t2\n",
      "133\t2\n",
      "134\t2\n",
      "135\t2\n",
      "136\t2\n",
      "137\t2\n",
      "138\t2\n",
      "139\t2\n",
      "140\t2\n",
      "141\t2\n",
      "142\t2\n",
      "143\t2\n",
      "144\t3\n",
      "145\t3\n",
      "146\t3\n",
      "147\t3\n",
      "148\t3\n",
      "149\t3\n",
      "150\t3\n",
      "151\t3\n",
      "152\t3\n",
      "153\t3\n",
      "154\t3\n",
      "155\t3\n",
      "156\t3\n",
      "157\t3\n",
      "158\t3\n",
      "159\t3\n",
      "160\t3\n",
      "161\t3\n",
      "162\t3\n",
      "163\t3\n",
      "164\t3\n",
      "165\t3\n",
      "166\t3\n",
      "167\t3\n",
      "168\t3\n",
      "169\t3\n",
      "170\t3\n",
      "171\t3\n",
      "172\t3\n",
      "173\t3\n",
      "174\t3\n",
      "175\t3\n",
      "176\t3\n",
      "177\t3\n",
      "178\t3\n",
      "179\t3\n",
      "180\t3\n"
     ]
    }
   ],
   "source": [
    "import math\n",
    "\n",
    "def radians_val(degrees):\n",
    "    return  round(degrees * math.pi/180)\n",
    "    \n",
    "\n",
    "print('Degrees', 'Radians',sep = '\\t')\n",
    "\n",
    "for degrees in range(1,181):\n",
    "    radians = radians_val(degrees)\n",
    "    print(degrees,radians,sep='\\t')\n",
    "\n"
   ]
  },
  {
   "cell_type": "code",
   "execution_count": 40,
   "metadata": {},
   "outputs": [
    {
     "name": "stdout",
     "output_type": "stream",
     "text": [
      "What is 5 times 7?\n",
      "Sorry, that's incorrect. The correct answer was 35\n",
      "Computer's answer is: 35\n",
      "Computer's answer is correct.\n",
      "Do you want to play again? (yes/no)\n",
      "What is 7 times 5?\n",
      "Correct! Good job.\n",
      "Computer's answer is: 35\n",
      "Computer's answer is correct.\n",
      "Do you want to play again? (yes/no)\n",
      "What is 10 times 2?\n",
      "Sorry, that's incorrect. The correct answer was 20\n",
      "Computer's answer is: 20\n",
      "Computer's answer is correct.\n",
      "Do you want to play again? (yes/no)\n",
      "Thanks for playing!\n",
      "You got 1 correct answers.\n",
      "Computer got 3 correct answers.\n",
      "Computer wins!\n"
     ]
    },
    {
     "ename": "",
     "evalue": "",
     "output_type": "error",
     "traceback": [
      "\u001b[1;31mThe Kernel crashed while executing code in the the current cell or a previous cell. Please review the code in the cell(s) to identify a possible cause of the failure. Click <a href='https://aka.ms/vscodeJupyterKernelCrash'>here</a> for more info. View Jupyter <a href='command:jupyter.viewOutput'>log</a> for further details."
     ]
    }
   ],
   "source": [
    "import random\n",
    "\n",
    "def computer_player(num1, num2):\n",
    "    # 90% of the time computer answers correctly\n",
    "    if random.random() < 0.9:\n",
    "        return num1 * num2\n",
    "    else:\n",
    "        return num1 * num2 + random.randint(1, 3)  # adding small mistake\n",
    "\n",
    "def play_game():\n",
    "    human_correct_cnt = 0\n",
    "    computer_correct_cnt = 0\n",
    "\n",
    "    while True:\n",
    "        num1 = random.randint(1, 10)\n",
    "        num2 = random.randint(1, 10)\n",
    "        correct_ans = num1 * num2\n",
    "\n",
    "        print(f\"What is {num1} times {num2}?\")\n",
    "        human_ans = int(input())\n",
    "        if human_ans == correct_ans:\n",
    "            print(\"Correct! Good job.\")\n",
    "            human_correct_cnt += 1\n",
    "        else:\n",
    "            print(f\"Sorry, that's incorrect. The correct answer was {correct_ans}\")\n",
    "\n",
    "        computer_ans = computer_player(num1, num2)\n",
    "        print(f\"Computer's answer is: {computer_ans}\")\n",
    "        if computer_ans == correct_ans:\n",
    "            print(\"Computer's answer is correct.\")\n",
    "            computer_correct_cnt += 1\n",
    "        else:\n",
    "            print(\"Computer's answer is incorrect.\")\n",
    "\n",
    "        print(\"Do you want to play again? (yes/no)\")\n",
    "        play_again = input().lower()\n",
    "        if play_again != 'yes':\n",
    "            print(\"Thanks for playing!\")\n",
    "            print(f\"You got {human_correct_cnt} correct answers.\")\n",
    "            print(f\"Computer got {computer_correct_cnt} correct answers.\")\n",
    "\n",
    "            if human_correct_cnt > computer_correct_cnt:\n",
    "                print(\"You win!\")\n",
    "            elif computer_correct_cnt > human_correct_cnt:\n",
    "                print(\"Computer wins!\")\n",
    "            else:\n",
    "                print(\"It's a tie!\")\n",
    "            break\n",
    "\n",
    "play_game()"
   ]
  },
  {
   "cell_type": "markdown",
   "metadata": {},
   "source": [
    "![Alt text](image-5.png)"
   ]
  },
  {
   "cell_type": "code",
   "execution_count": 12,
   "metadata": {},
   "outputs": [
    {
     "data": {
      "text/plain": [
       "6"
      ]
     },
     "execution_count": 12,
     "metadata": {},
     "output_type": "execute_result"
    }
   ],
   "source": [
    "import statistics\n",
    "def arbitrary(*args):\n",
    "    return statistics.mean(args)\n",
    "\n",
    "arbitrary(*[1,2,3])\n",
    "arbitrary(*[1,8,9])"
   ]
  },
  {
   "cell_type": "markdown",
   "metadata": {},
   "source": [
    "![Alt text](image-6.png)"
   ]
  },
  {
   "cell_type": "code",
   "execution_count": 12,
   "metadata": {},
   "outputs": [
    {
     "name": "stdout",
     "output_type": "stream",
     "text": [
      "36\n",
      "How much is 9 times 4?\n",
      "No. Please try again.\"\n",
      "How much is 9 times 4?\n",
      "No. Please try again.\"\n",
      "How much is 9 times 4?\n",
      "No. Please try again.\"\n",
      "How much is 9 times 4?\n",
      "No. Please try again.\"\n",
      "How much is 9 times 4?\n",
      "No. Please try again.\"\n",
      "How much is 9 times 4?\n",
      "No. Please try again.\"\n",
      "How much is 9 times 4?\n",
      "Very good!\"\n"
     ]
    }
   ],
   "source": [
    "import random\n",
    "\n",
    "def computer_assest():\n",
    "    num1 = random.randrange(1,10)\n",
    "    num2 = random.randrange(1,10)\n",
    "    result = num1 * num2\n",
    "    print(result)\n",
    "    \n",
    "    # print(f'How much is {num1} times {num2}?')\n",
    "    # stu_input = input(int())\n",
    "\n",
    "    while True:\n",
    "        \n",
    "        print(f'How much is {num1} times {num2}?')\n",
    "        stu_input = int(input())\n",
    "\n",
    "        if stu_input == result:\n",
    "            print('Very good!\"')\n",
    "            break\n",
    "        else:\n",
    "            print('No. Please try again.\"')\n",
    "            \n",
    "\n",
    "\n",
    "\n",
    "\n",
    "\n",
    "computer_assest()"
   ]
  },
  {
   "cell_type": "code",
   "execution_count": 38,
   "metadata": {},
   "outputs": [
    {
     "name": "stdout",
     "output_type": "stream",
     "text": [
      "32\n",
      "How much is 8 times 4?\n",
      "No. Please try again.\n",
      "How much is 8 times 4?\n",
      "No. Please try again.\n",
      "How much is 8 times 4?\n",
      "No. Please try again.\n",
      "How much is 8 times 4?\n",
      "No. Please try again.\n",
      "How much is 8 times 4?\n",
      "Wrong. Try once more.\n",
      "How much is 8 times 4?\n",
      "No. Please try again.\n",
      "How much is 8 times 4?\n",
      "No. Please try again.\n",
      "How much is 8 times 4?\n",
      "Wrong. Try once more.\n",
      "How much is 8 times 4?\n",
      "No. Please try again.\n",
      "How much is 8 times 4?\n",
      "No. Please try again.\n",
      "How much is 8 times 4?\n",
      "No. Please try again.\n",
      "How much is 8 times 4?\n",
      "Wrong. Try once more.\n",
      "How much is 8 times 4?\n",
      "Wrong. Try once more.\n",
      "How much is 8 times 4?\n",
      "No. Keep trying.\n",
      "How much is 8 times 4?\n",
      "Wrong. Try once more.\n",
      "How much is 8 times 4?\n",
      "No. Please try again.\n",
      "How much is 8 times 4?\n",
      "Wrong. Try once more.\n",
      "How much is 8 times 4?\n",
      "No. Keep trying.\n",
      "How much is 8 times 4?\n",
      "Keep up the good work!\n"
     ]
    }
   ],
   "source": [
    "import random\n",
    "\n",
    "def computer_assest():\n",
    "    num1 = random.randrange(1,10)\n",
    "    num2 = random.randrange(1,10)\n",
    "    result = num1 * num2\n",
    "    correct_answer = ['Very good!','Nice work!','Keep up the good work!']\n",
    "    wrong_answer = ['No. Please try again.','Wrong. Try once more.','No. Keep trying.']\n",
    "    \n",
    "    \n",
    "    print(result)\n",
    "    \n",
    "\n",
    "\n",
    "    while True:\n",
    "        rand_response = random.randrange(0,3)\n",
    "        print(f'How much is {num1} times {num2}?')\n",
    "        stu_input = int(input())\n",
    "\n",
    "        if stu_input == result:\n",
    "            print(correct_answer[rand_response])\n",
    "            break\n",
    "        else:\n",
    "            print(wrong_answer[rand_response])\n",
    "            \n",
    "\n",
    "\n",
    "\n",
    "\n",
    "\n",
    "computer_assest()"
   ]
  },
  {
   "cell_type": "code",
   "execution_count": 77,
   "metadata": {},
   "outputs": [
    {
     "ename": "TypeError",
     "evalue": "'str' object is not callable",
     "output_type": "error",
     "traceback": [
      "\u001b[1;31m---------------------------------------------------------------------------\u001b[0m",
      "\u001b[1;31mTypeError\u001b[0m                                 Traceback (most recent call last)",
      "\u001b[1;32mmohamedyounis94\\IntroToPython\\examples\\ch04\\EX.ipynb Cell 97\u001b[0m line \u001b[0;36m8\n\u001b[0;32m     <a href='vscode-notebook-cell://github/mohamedyounis94/IntroToPython/examples/ch04/EX.ipynb#Y165sdnNjb2RlLXZmcw%3D%3D?line=76'>77</a>\u001b[0m         \u001b[39melse\u001b[39;00m:\n\u001b[0;32m     <a href='vscode-notebook-cell://github/mohamedyounis94/IntroToPython/examples/ch04/EX.ipynb#Y165sdnNjb2RlLXZmcw%3D%3D?line=77'>78</a>\u001b[0m             \u001b[39mprint\u001b[39m(wrong_answer[rand_response])\n\u001b[1;32m---> <a href='vscode-notebook-cell://github/mohamedyounis94/IntroToPython/examples/ch04/EX.ipynb#Y165sdnNjb2RlLXZmcw%3D%3D?line=81'>82</a>\u001b[0m computer_assest()\n",
      "\u001b[1;32mmohamedyounis94\\IntroToPython\\examples\\ch04\\EX.ipynb Cell 97\u001b[0m line \u001b[0;36m2\n\u001b[0;32m     <a href='vscode-notebook-cell://github/mohamedyounis94/IntroToPython/examples/ch04/EX.ipynb#Y165sdnNjb2RlLXZmcw%3D%3D?line=20'>21</a>\u001b[0m     result \u001b[39m=\u001b[39m num1 \u001b[39m/\u001b[39m num2\n\u001b[0;32m     <a href='vscode-notebook-cell://github/mohamedyounis94/IntroToPython/examples/ch04/EX.ipynb#Y165sdnNjb2RlLXZmcw%3D%3D?line=21'>22</a>\u001b[0m \u001b[39melse\u001b[39;00m:\n\u001b[1;32m---> <a href='vscode-notebook-cell://github/mohamedyounis94/IntroToPython/examples/ch04/EX.ipynb#Y165sdnNjb2RlLXZmcw%3D%3D?line=22'>23</a>\u001b[0m     random_mixture()\n\u001b[0;32m     <a href='vscode-notebook-cell://github/mohamedyounis94/IntroToPython/examples/ch04/EX.ipynb#Y165sdnNjb2RlLXZmcw%3D%3D?line=27'>28</a>\u001b[0m \u001b[39mprint\u001b[39m(result)\n\u001b[0;32m     <a href='vscode-notebook-cell://github/mohamedyounis94/IntroToPython/examples/ch04/EX.ipynb#Y165sdnNjb2RlLXZmcw%3D%3D?line=31'>32</a>\u001b[0m \u001b[39mwhile\u001b[39;00m \u001b[39mTrue\u001b[39;00m:\n",
      "\u001b[1;32mmohamedyounis94\\IntroToPython\\examples\\ch04\\EX.ipynb Cell 97\u001b[0m line \u001b[0;36m7\n\u001b[0;32m     <a href='vscode-notebook-cell://github/mohamedyounis94/IntroToPython/examples/ch04/EX.ipynb#Y165sdnNjb2RlLXZmcw%3D%3D?line=68'>69</a>\u001b[0m \u001b[39mwhile\u001b[39;00m \u001b[39mTrue\u001b[39;00m:\n\u001b[0;32m     <a href='vscode-notebook-cell://github/mohamedyounis94/IntroToPython/examples/ch04/EX.ipynb#Y165sdnNjb2RlLXZmcw%3D%3D?line=69'>70</a>\u001b[0m     rand_response \u001b[39m=\u001b[39m random\u001b[39m.\u001b[39mrandrange(\u001b[39m0\u001b[39m,\u001b[39m3\u001b[39m)\n\u001b[1;32m---> <a href='vscode-notebook-cell://github/mohamedyounis94/IntroToPython/examples/ch04/EX.ipynb#Y165sdnNjb2RlLXZmcw%3D%3D?line=70'>71</a>\u001b[0m     \u001b[39mprint\u001b[39;49m(\u001b[39mf\u001b[39;49m\u001b[39m'\u001b[39;49m\u001b[39mHow much is \u001b[39;49m\u001b[39m{\u001b[39;49;00mnum1\u001b[39m}\u001b[39;49;00m\u001b[39m times \u001b[39;49m\u001b[39m{\u001b[39;49;00mnum2\u001b[39m}\u001b[39;49;00m\u001b[39m?\u001b[39;49m\u001b[39m'\u001b[39;49m)\n\u001b[0;32m     <a href='vscode-notebook-cell://github/mohamedyounis94/IntroToPython/examples/ch04/EX.ipynb#Y165sdnNjb2RlLXZmcw%3D%3D?line=71'>72</a>\u001b[0m     stu_input \u001b[39m=\u001b[39m \u001b[39mint\u001b[39m(\u001b[39minput\u001b[39m())\n\u001b[0;32m     <a href='vscode-notebook-cell://github/mohamedyounis94/IntroToPython/examples/ch04/EX.ipynb#Y165sdnNjb2RlLXZmcw%3D%3D?line=73'>74</a>\u001b[0m     \u001b[39mif\u001b[39;00m stu_input \u001b[39m==\u001b[39m result:\n",
      "\u001b[1;31mTypeError\u001b[0m: 'str' object is not callable"
     ]
    }
   ],
   "source": [
    "import random\n",
    "\n",
    "def computer_assest():\n",
    "    num1 = random.randrange(1,10)\n",
    "    num2 = random.randrange(1,10)\n",
    "    result = num1 * num2\n",
    "    correct_answer = ['Very good!','Nice work!','Keep up the good work!']\n",
    "    wrong_answer = ['No. Please try again.','Wrong. Try once more.','No. Keep trying.']\n",
    "    type_problem = int(input('Select Operator 1- Addition, 2- Sub, 3- Multipli, 4- Divid, 5- Random Operator'))\n",
    "    rand_type = random.randrange(1,5)\n",
    "    rand_operator = ['+','-','*','/']\n",
    "    # print = rand_operator[0]\n",
    "\n",
    "    if type_problem == 1:\n",
    "        result = num1 + num2\n",
    "    elif type_problem == 2:\n",
    "        result = num1 - num2\n",
    "    elif type_problem == 3:\n",
    "        result = num1 * num2\n",
    "    elif type_problem == 4:\n",
    "        result = num1 / num2\n",
    "    else:\n",
    "        random_mixture()\n",
    "    \n",
    "    \n",
    "    \n",
    "    \n",
    "    print(result)\n",
    "    \n",
    "\n",
    "\n",
    "    while True:\n",
    "        rand_response = random.randrange(0,3)\n",
    "        print(f'How much is {num1} times {num2}?')\n",
    "        stu_input = int(input())\n",
    "\n",
    "        if stu_input == result:\n",
    "            print(correct_answer[rand_response])\n",
    "            break\n",
    "        else:\n",
    "            print(wrong_answer[rand_response])\n",
    "            \n",
    "\n",
    "def random_mixture():\n",
    "    num1 = random.randrange(1,10)\n",
    "    num2 = random.randrange(1,10)\n",
    "    \n",
    "    correct_answer = ['Very good!','Nice work!','Keep up the good work!']\n",
    "    wrong_answer = ['No. Please try again.','Wrong. Try once more.','No. Keep trying.']\n",
    "    rand_type = random.randrange(1,5)\n",
    "    rand_operator = ['+','-','*','/']\n",
    "\n",
    "    \n",
    "\n",
    "    if rand_type == 1:\n",
    "        result = num1 + num2\n",
    "    elif rand_type == 2:\n",
    "        result = num1 - num2\n",
    "    elif rand_type == 3:\n",
    "        result = num1 * num2\n",
    "    elif rand_type == 4:\n",
    "        result = num1 / num2\n",
    "    \n",
    "\n",
    "    print(result)\n",
    "    \n",
    "\n",
    "\n",
    "    while True:\n",
    "        rand_response = random.randrange(0,3)\n",
    "        print(f'How much is {num1} times {num2}?')\n",
    "        stu_input = int(input())\n",
    "\n",
    "        if stu_input == result:\n",
    "            print(correct_answer[rand_response])\n",
    "            break\n",
    "        else:\n",
    "            print(wrong_answer[rand_response])\n",
    "\n",
    "\n",
    "\n",
    "computer_assest()\n"
   ]
  },
  {
   "cell_type": "code",
   "execution_count": 67,
   "metadata": {},
   "outputs": [
    {
     "data": {
      "text/plain": [
       "2"
      ]
     },
     "execution_count": 67,
     "metadata": {},
     "output_type": "execute_result"
    }
   ],
   "source": [
    "random.randrange(1,5)"
   ]
  },
  {
   "cell_type": "code",
   "execution_count": 76,
   "metadata": {},
   "outputs": [
    {
     "data": {
      "text/plain": [
       "9"
      ]
     },
     "execution_count": 76,
     "metadata": {},
     "output_type": "execute_result"
    }
   ],
   "source": [
    "rand_type = random.randrange(1,5)\n",
    "rand_operator = ['+','-','*','/']\n",
    "\n",
    "if rand_type == 1:\n",
    "        result = 1 + 1\n",
    "elif rand_type == 2:\n",
    "        result = 2 - 2\n",
    "elif rand_type == 3:\n",
    "        result = 3 * 3\n",
    "elif rand_type == 4:\n",
    "        result = 4 / 4\n",
    "\n",
    "result"
   ]
  },
  {
   "cell_type": "code",
   "execution_count": null,
   "metadata": {},
   "outputs": [],
   "source": []
  }
 ],
 "metadata": {
  "kernelspec": {
   "display_name": "Python 3",
   "language": "python",
   "name": "python3"
  },
  "language_info": {
   "codemirror_mode": {
    "name": "ipython",
    "version": 3
   },
   "file_extension": ".py",
   "mimetype": "text/x-python",
   "name": "python",
   "nbconvert_exporter": "python",
   "pygments_lexer": "ipython3",
   "version": "3.11.5"
  },
  "orig_nbformat": 4
 },
 "nbformat": 4,
 "nbformat_minor": 2
}
